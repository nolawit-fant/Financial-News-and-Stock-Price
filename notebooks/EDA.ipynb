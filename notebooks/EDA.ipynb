{
 "cells": [
  {
   "cell_type": "code",
   "execution_count": 1,
   "metadata": {},
   "outputs": [
    {
     "name": "stdout",
     "output_type": "stream",
     "text": [
      "Note: you may need to restart the kernel to use updated packages.Requirement already satisfied: pandas in c:\\users\\nolaw\\anaconda3\\lib\\site-packages (2.2.2)\n",
      "Requirement already satisfied: matplotlib in c:\\users\\nolaw\\anaconda3\\lib\\site-packages (3.8.4)\n",
      "Requirement already satisfied: textblob in c:\\users\\nolaw\\anaconda3\\lib\\site-packages (0.18.0.post0)\n",
      "Requirement already satisfied: numpy>=1.26.0 in c:\\users\\nolaw\\anaconda3\\lib\\site-packages (from pandas) (1.26.4)\n",
      "Requirement already satisfied: python-dateutil>=2.8.2 in c:\\users\\nolaw\\anaconda3\\lib\\site-packages (from pandas) (2.9.0.post0)\n",
      "Requirement already satisfied: pytz>=2020.1 in c:\\users\\nolaw\\anaconda3\\lib\\site-packages (from pandas) (2024.1)\n",
      "Requirement already satisfied: tzdata>=2022.7 in c:\\users\\nolaw\\anaconda3\\lib\\site-packages (from pandas) (2023.3)\n",
      "Requirement already satisfied: contourpy>=1.0.1 in c:\\users\\nolaw\\anaconda3\\lib\\site-packages (from matplotlib) (1.2.0)\n",
      "Requirement already satisfied: cycler>=0.10 in c:\\users\\nolaw\\anaconda3\\lib\\site-packages (from matplotlib) (0.11.0)\n",
      "Requirement already satisfied: fonttools>=4.22.0 in c:\\users\\nolaw\\anaconda3\\lib\\site-packages (from matplotlib) (4.51.0)\n",
      "Requirement already satisfied: kiwisolver>=1.3.1 in c:\\users\\nolaw\\anaconda3\\lib\\site-packages (from matplotlib) (1.4.4)\n",
      "Requirement already satisfied: packaging>=20.0 in c:\\users\\nolaw\\anaconda3\\lib\\site-packages (from matplotlib) (23.2)\n",
      "Requirement already satisfied: pillow>=8 in c:\\users\\nolaw\\anaconda3\\lib\\site-packages (from matplotlib) (10.3.0)\n",
      "Requirement already satisfied: pyparsing>=2.3.1 in c:\\users\\nolaw\\anaconda3\\lib\\site-packages (from matplotlib) (3.0.9)\n",
      "Requirement already satisfied: nltk>=3.8 in c:\\users\\nolaw\\anaconda3\\lib\\site-packages (from textblob) (3.8.1)\n",
      "Requirement already satisfied: click in c:\\users\\nolaw\\anaconda3\\lib\\site-packages (from nltk>=3.8->textblob) (8.1.7)\n",
      "Requirement already satisfied: joblib in c:\\users\\nolaw\\anaconda3\\lib\\site-packages (from nltk>=3.8->textblob) (1.4.2)\n",
      "Requirement already satisfied: regex>=2021.8.3 in c:\\users\\nolaw\\anaconda3\\lib\\site-packages (from nltk>=3.8->textblob) (2023.10.3)\n",
      "Requirement already satisfied: tqdm in c:\\users\\nolaw\\anaconda3\\lib\\site-packages (from nltk>=3.8->textblob) (4.66.4)\n",
      "Requirement already satisfied: six>=1.5 in c:\\users\\nolaw\\anaconda3\\lib\\site-packages (from python-dateutil>=2.8.2->pandas) (1.16.0)\n",
      "Requirement already satisfied: colorama in c:\\users\\nolaw\\anaconda3\\lib\\site-packages (from click->nltk>=3.8->textblob) (0.4.6)\n",
      "\n"
     ]
    }
   ],
   "source": [
    "%pip install pandas matplotlib textblob"
   ]
  },
  {
   "cell_type": "code",
   "execution_count": 2,
   "metadata": {},
   "outputs": [
    {
     "name": "stdout",
     "output_type": "stream",
     "text": [
      "Requirement already satisfied: yfinance in c:\\users\\nolaw\\anaconda3\\lib\\site-packages (0.2.43)\n",
      "Requirement already satisfied: pandas>=1.3.0 in c:\\users\\nolaw\\anaconda3\\lib\\site-packages (from yfinance) (2.2.2)\n",
      "Requirement already satisfied: numpy>=1.16.5 in c:\\users\\nolaw\\anaconda3\\lib\\site-packages (from yfinance) (1.26.4)\n",
      "Requirement already satisfied: requests>=2.31 in c:\\users\\nolaw\\anaconda3\\lib\\site-packages (from yfinance) (2.32.2)\n",
      "Requirement already satisfied: multitasking>=0.0.7 in c:\\users\\nolaw\\anaconda3\\lib\\site-packages (from yfinance) (0.0.11)\n",
      "Requirement already satisfied: lxml>=4.9.1 in c:\\users\\nolaw\\anaconda3\\lib\\site-packages (from yfinance) (5.2.1)\n",
      "Requirement already satisfied: platformdirs>=2.0.0 in c:\\users\\nolaw\\anaconda3\\lib\\site-packages (from yfinance) (3.10.0)\n",
      "Requirement already satisfied: pytz>=2022.5 in c:\\users\\nolaw\\anaconda3\\lib\\site-packages (from yfinance) (2024.1)\n",
      "Requirement already satisfied: frozendict>=2.3.4 in c:\\users\\nolaw\\anaconda3\\lib\\site-packages (from yfinance) (2.4.2)\n",
      "Requirement already satisfied: peewee>=3.16.2 in c:\\users\\nolaw\\anaconda3\\lib\\site-packages (from yfinance) (3.17.6)\n",
      "Requirement already satisfied: beautifulsoup4>=4.11.1 in c:\\users\\nolaw\\anaconda3\\lib\\site-packages (from yfinance) (4.12.3)\n",
      "Requirement already satisfied: html5lib>=1.1 in c:\\users\\nolaw\\anaconda3\\lib\\site-packages (from yfinance) (1.1)\n",
      "Requirement already satisfied: soupsieve>1.2 in c:\\users\\nolaw\\anaconda3\\lib\\site-packages (from beautifulsoup4>=4.11.1->yfinance) (2.5)\n",
      "Requirement already satisfied: six>=1.9 in c:\\users\\nolaw\\anaconda3\\lib\\site-packages (from html5lib>=1.1->yfinance) (1.16.0)\n",
      "Requirement already satisfied: webencodings in c:\\users\\nolaw\\anaconda3\\lib\\site-packages (from html5lib>=1.1->yfinance) (0.5.1)\n",
      "Requirement already satisfied: python-dateutil>=2.8.2 in c:\\users\\nolaw\\anaconda3\\lib\\site-packages (from pandas>=1.3.0->yfinance) (2.9.0.post0)\n",
      "Requirement already satisfied: tzdata>=2022.7 in c:\\users\\nolaw\\anaconda3\\lib\\site-packages (from pandas>=1.3.0->yfinance) (2023.3)\n",
      "Requirement already satisfied: charset-normalizer<4,>=2 in c:\\users\\nolaw\\anaconda3\\lib\\site-packages (from requests>=2.31->yfinance) (2.0.4)\n",
      "Requirement already satisfied: idna<4,>=2.5 in c:\\users\\nolaw\\anaconda3\\lib\\site-packages (from requests>=2.31->yfinance) (3.7)\n",
      "Requirement already satisfied: urllib3<3,>=1.21.1 in c:\\users\\nolaw\\anaconda3\\lib\\site-packages (from requests>=2.31->yfinance) (2.2.2)\n",
      "Requirement already satisfied: certifi>=2017.4.17 in c:\\users\\nolaw\\anaconda3\\lib\\site-packages (from requests>=2.31->yfinance) (2024.7.4)\n",
      "Note: you may need to restart the kernel to use updated packages.\n"
     ]
    }
   ],
   "source": [
    "%pip install yfinance"
   ]
  },
  {
   "cell_type": "code",
   "execution_count": 3,
   "metadata": {},
   "outputs": [
    {
     "name": "stdout",
     "output_type": "stream",
     "text": [
      "Processing c:\\users\\nolaw\\downloads\\ta_lib-0.4.29-cp312-cp312-win_amd64.whl\n",
      "Requirement already satisfied: numpy in c:\\users\\nolaw\\anaconda3\\lib\\site-packages (from TA-Lib==0.4.29) (1.26.4)\n",
      "TA-Lib is already installed with the same version as the provided wheel. Use --force-reinstall to force an installation of the wheel.\n",
      "Note: you may need to restart the kernel to use updated packages.\n"
     ]
    }
   ],
   "source": [
    "%pip install \"C:\\Users\\nolaw\\Downloads\\TA_Lib-0.4.29-cp312-cp312-win_amd64.whl\""
   ]
  },
  {
   "cell_type": "code",
   "execution_count": 2,
   "metadata": {},
   "outputs": [],
   "source": [
    "import pandas as pd\n",
    "import numpy as np\n",
    "import seaborn as sns\n",
    "import matplotlib.pyplot as plt\n",
    "import plotly.express as px\n",
    "import yfinance as yf\n",
    "from datetime import datetime\n",
    "from textblob import TextBlob\n",
    "\n",
    "# silence warnings\n",
    "import warnings\n",
    "warnings.filterwarnings('ignore')"
   ]
  },
  {
   "cell_type": "markdown",
   "metadata": {},
   "source": [
    "# Accessing and understanding the data"
   ]
  },
  {
   "cell_type": "code",
   "execution_count": 90,
   "metadata": {},
   "outputs": [],
   "source": [
    "data = pd.read_csv(\"../data/raw_analyst_ratings.csv\")"
   ]
  },
  {
   "cell_type": "code",
   "execution_count": 5,
   "metadata": {},
   "outputs": [
    {
     "data": {
      "text/html": [
       "<div>\n",
       "<style scoped>\n",
       "    .dataframe tbody tr th:only-of-type {\n",
       "        vertical-align: middle;\n",
       "    }\n",
       "\n",
       "    .dataframe tbody tr th {\n",
       "        vertical-align: top;\n",
       "    }\n",
       "\n",
       "    .dataframe thead th {\n",
       "        text-align: right;\n",
       "    }\n",
       "</style>\n",
       "<table border=\"1\" class=\"dataframe\">\n",
       "  <thead>\n",
       "    <tr style=\"text-align: right;\">\n",
       "      <th></th>\n",
       "      <th>Unnamed: 0</th>\n",
       "      <th>headline</th>\n",
       "      <th>url</th>\n",
       "      <th>publisher</th>\n",
       "      <th>date</th>\n",
       "      <th>stock</th>\n",
       "    </tr>\n",
       "  </thead>\n",
       "  <tbody>\n",
       "    <tr>\n",
       "      <th>0</th>\n",
       "      <td>0</td>\n",
       "      <td>Stocks That Hit 52-Week Highs On Friday</td>\n",
       "      <td>https://www.benzinga.com/news/20/06/16190091/s...</td>\n",
       "      <td>Benzinga Insights</td>\n",
       "      <td>2020-06-05 10:30:54-04:00</td>\n",
       "      <td>A</td>\n",
       "    </tr>\n",
       "    <tr>\n",
       "      <th>1</th>\n",
       "      <td>1</td>\n",
       "      <td>Stocks That Hit 52-Week Highs On Wednesday</td>\n",
       "      <td>https://www.benzinga.com/news/20/06/16170189/s...</td>\n",
       "      <td>Benzinga Insights</td>\n",
       "      <td>2020-06-03 10:45:20-04:00</td>\n",
       "      <td>A</td>\n",
       "    </tr>\n",
       "    <tr>\n",
       "      <th>2</th>\n",
       "      <td>2</td>\n",
       "      <td>71 Biggest Movers From Friday</td>\n",
       "      <td>https://www.benzinga.com/news/20/05/16103463/7...</td>\n",
       "      <td>Lisa Levin</td>\n",
       "      <td>2020-05-26 04:30:07-04:00</td>\n",
       "      <td>A</td>\n",
       "    </tr>\n",
       "    <tr>\n",
       "      <th>3</th>\n",
       "      <td>3</td>\n",
       "      <td>46 Stocks Moving In Friday's Mid-Day Session</td>\n",
       "      <td>https://www.benzinga.com/news/20/05/16095921/4...</td>\n",
       "      <td>Lisa Levin</td>\n",
       "      <td>2020-05-22 12:45:06-04:00</td>\n",
       "      <td>A</td>\n",
       "    </tr>\n",
       "    <tr>\n",
       "      <th>4</th>\n",
       "      <td>4</td>\n",
       "      <td>B of A Securities Maintains Neutral on Agilent...</td>\n",
       "      <td>https://www.benzinga.com/news/20/05/16095304/b...</td>\n",
       "      <td>Vick Meyer</td>\n",
       "      <td>2020-05-22 11:38:59-04:00</td>\n",
       "      <td>A</td>\n",
       "    </tr>\n",
       "  </tbody>\n",
       "</table>\n",
       "</div>"
      ],
      "text/plain": [
       "   Unnamed: 0                                           headline  \\\n",
       "0           0            Stocks That Hit 52-Week Highs On Friday   \n",
       "1           1         Stocks That Hit 52-Week Highs On Wednesday   \n",
       "2           2                      71 Biggest Movers From Friday   \n",
       "3           3       46 Stocks Moving In Friday's Mid-Day Session   \n",
       "4           4  B of A Securities Maintains Neutral on Agilent...   \n",
       "\n",
       "                                                 url          publisher  \\\n",
       "0  https://www.benzinga.com/news/20/06/16190091/s...  Benzinga Insights   \n",
       "1  https://www.benzinga.com/news/20/06/16170189/s...  Benzinga Insights   \n",
       "2  https://www.benzinga.com/news/20/05/16103463/7...         Lisa Levin   \n",
       "3  https://www.benzinga.com/news/20/05/16095921/4...         Lisa Levin   \n",
       "4  https://www.benzinga.com/news/20/05/16095304/b...         Vick Meyer   \n",
       "\n",
       "                        date stock  \n",
       "0  2020-06-05 10:30:54-04:00     A  \n",
       "1  2020-06-03 10:45:20-04:00     A  \n",
       "2  2020-05-26 04:30:07-04:00     A  \n",
       "3  2020-05-22 12:45:06-04:00     A  \n",
       "4  2020-05-22 11:38:59-04:00     A  "
      ]
     },
     "execution_count": 5,
     "metadata": {},
     "output_type": "execute_result"
    }
   ],
   "source": [
    "data.head()"
   ]
  },
  {
   "cell_type": "code",
   "execution_count": 6,
   "metadata": {},
   "outputs": [
    {
     "data": {
      "text/plain": [
       "(1407328, 6)"
      ]
     },
     "execution_count": 6,
     "metadata": {},
     "output_type": "execute_result"
    }
   ],
   "source": [
    "data.shape"
   ]
  },
  {
   "cell_type": "code",
   "execution_count": 7,
   "metadata": {},
   "outputs": [
    {
     "data": {
      "text/html": [
       "<div>\n",
       "<style scoped>\n",
       "    .dataframe tbody tr th:only-of-type {\n",
       "        vertical-align: middle;\n",
       "    }\n",
       "\n",
       "    .dataframe tbody tr th {\n",
       "        vertical-align: top;\n",
       "    }\n",
       "\n",
       "    .dataframe thead th {\n",
       "        text-align: right;\n",
       "    }\n",
       "</style>\n",
       "<table border=\"1\" class=\"dataframe\">\n",
       "  <thead>\n",
       "    <tr style=\"text-align: right;\">\n",
       "      <th></th>\n",
       "      <th>Unnamed: 0</th>\n",
       "    </tr>\n",
       "  </thead>\n",
       "  <tbody>\n",
       "    <tr>\n",
       "      <th>count</th>\n",
       "      <td>1.407328e+06</td>\n",
       "    </tr>\n",
       "    <tr>\n",
       "      <th>mean</th>\n",
       "      <td>7.072454e+05</td>\n",
       "    </tr>\n",
       "    <tr>\n",
       "      <th>std</th>\n",
       "      <td>4.081009e+05</td>\n",
       "    </tr>\n",
       "    <tr>\n",
       "      <th>min</th>\n",
       "      <td>0.000000e+00</td>\n",
       "    </tr>\n",
       "    <tr>\n",
       "      <th>25%</th>\n",
       "      <td>3.538128e+05</td>\n",
       "    </tr>\n",
       "    <tr>\n",
       "      <th>50%</th>\n",
       "      <td>7.072395e+05</td>\n",
       "    </tr>\n",
       "    <tr>\n",
       "      <th>75%</th>\n",
       "      <td>1.060710e+06</td>\n",
       "    </tr>\n",
       "    <tr>\n",
       "      <th>max</th>\n",
       "      <td>1.413848e+06</td>\n",
       "    </tr>\n",
       "  </tbody>\n",
       "</table>\n",
       "</div>"
      ],
      "text/plain": [
       "         Unnamed: 0\n",
       "count  1.407328e+06\n",
       "mean   7.072454e+05\n",
       "std    4.081009e+05\n",
       "min    0.000000e+00\n",
       "25%    3.538128e+05\n",
       "50%    7.072395e+05\n",
       "75%    1.060710e+06\n",
       "max    1.413848e+06"
      ]
     },
     "execution_count": 7,
     "metadata": {},
     "output_type": "execute_result"
    }
   ],
   "source": [
    "data.describe()"
   ]
  },
  {
   "cell_type": "code",
   "execution_count": 8,
   "metadata": {},
   "outputs": [
    {
     "data": {
      "text/plain": [
       "Index(['Unnamed: 0', 'headline', 'url', 'publisher', 'date', 'stock'], dtype='object')"
      ]
     },
     "execution_count": 8,
     "metadata": {},
     "output_type": "execute_result"
    }
   ],
   "source": [
    "data.columns"
   ]
  },
  {
   "cell_type": "code",
   "execution_count": 9,
   "metadata": {},
   "outputs": [
    {
     "name": "stdout",
     "output_type": "stream",
     "text": [
      "<class 'pandas.core.frame.DataFrame'>\n",
      "RangeIndex: 1407328 entries, 0 to 1407327\n",
      "Data columns (total 6 columns):\n",
      " #   Column      Non-Null Count    Dtype \n",
      "---  ------      --------------    ----- \n",
      " 0   Unnamed: 0  1407328 non-null  int64 \n",
      " 1   headline    1407328 non-null  object\n",
      " 2   url         1407328 non-null  object\n",
      " 3   publisher   1407328 non-null  object\n",
      " 4   date        1407328 non-null  object\n",
      " 5   stock       1407328 non-null  object\n",
      "dtypes: int64(1), object(5)\n",
      "memory usage: 64.4+ MB\n"
     ]
    }
   ],
   "source": [
    "data.info()"
   ]
  },
  {
   "cell_type": "code",
   "execution_count": 11,
   "metadata": {},
   "outputs": [
    {
     "data": {
      "text/plain": [
       "(1407328, 6)"
      ]
     },
     "execution_count": 11,
     "metadata": {},
     "output_type": "execute_result"
    }
   ],
   "source": [
    "#clean data by removing duplicates on the data frame\n",
    "\n",
    "data.drop_duplicates(inplace=True)\n",
    "data.shape"
   ]
  },
  {
   "cell_type": "markdown",
   "metadata": {},
   "source": [
    "# Descriptive Statistics"
   ]
  },
  {
   "cell_type": "code",
   "execution_count": 12,
   "metadata": {},
   "outputs": [
    {
     "data": {
      "text/plain": [
       "count    1.407328e+06\n",
       "mean     7.312051e+01\n",
       "std      4.073531e+01\n",
       "min      3.000000e+00\n",
       "25%      4.700000e+01\n",
       "50%      6.400000e+01\n",
       "75%      8.700000e+01\n",
       "max      5.120000e+02\n",
       "Name: headline_length, dtype: float64"
      ]
     },
     "execution_count": 12,
     "metadata": {},
     "output_type": "execute_result"
    }
   ],
   "source": [
    "# Get the length of each headline\n",
    "data['headline_length'] = data['headline'].str.len()\n",
    "\n",
    "# Descriptive statistics of headline length\n",
    "data['headline_length'].describe()"
   ]
  },
  {
   "cell_type": "code",
   "execution_count": 116,
   "metadata": {},
   "outputs": [
    {
     "name": "stdout",
     "output_type": "stream",
     "text": [
      "<class 'pandas.core.frame.DataFrame'>\n",
      "DatetimeIndex: 45428 entries, 1980-12-12 to 2024-07-30\n",
      "Data columns (total 9 columns):\n",
      " #   Column           Non-Null Count  Dtype  \n",
      "---  ------           --------------  -----  \n",
      " 0   Unnamed: 0       45428 non-null  int64  \n",
      " 1   headline         45428 non-null  object \n",
      " 2   url              45428 non-null  object \n",
      " 3   publisher        45428 non-null  object \n",
      " 4   stock            45428 non-null  object \n",
      " 5   Sentiment_Score  45428 non-null  float64\n",
      " 6   polarity         45428 non-null  float64\n",
      " 7   subjectivity     45428 non-null  float64\n",
      " 8   sentiment        45428 non-null  object \n",
      "dtypes: float64(3), int64(1), object(5)\n",
      "memory usage: 4.5+ MB\n"
     ]
    }
   ],
   "source": [
    "data.info()"
   ]
  },
  {
   "cell_type": "code",
   "execution_count": 14,
   "metadata": {},
   "outputs": [
    {
     "data": {
      "image/png": "[encoded data removed]",
      "text/plain": [
       "<Figure size 1000x600 with 1 Axes>"
      ]
     },
     "metadata": {},
     "output_type": "display_data"
    }
   ],
   "source": [
    "# Plot the descriptive statistics\n",
    "\n",
    "plt.figure(figsize=(10, 6))\n",
    "data['headline_length'].describe().drop('count').plot(kind='bar', color='skyblue')\n",
    "\n",
    "# Add titles and labels\n",
    "plt.title('Descriptive Statistics of Headline Length')\n",
    "plt.ylabel('Value')\n",
    "plt.xticks(rotation=45)\n",
    "\n",
    "# Show the plot\n",
    "plt.show()\n"
   ]
  },
  {
   "cell_type": "markdown",
   "metadata": {},
   "source": [
    "# publisher Analysis"
   ]
  },
  {
   "cell_type": "markdown",
   "metadata": {},
   "source": [
    " ## 1.count of number of articles per publisher"
   ]
  },
  {
   "cell_type": "code",
   "execution_count": 15,
   "metadata": {},
   "outputs": [
    {
     "data": {
      "text/plain": [
       "publisher\n",
       "Paul Quintaro        228373\n",
       "Lisa Levin           186979\n",
       "Benzinga Newsdesk    150484\n",
       "Charles Gross         96732\n",
       "Monica Gerson         82380\n",
       "Eddie Staley          57254\n",
       "Hal Lindon            49047\n",
       "ETF Professor         28489\n",
       "Juan Lopez            28438\n",
       "Benzinga Staff        28114\n",
       "Name: count, dtype: int64"
      ]
     },
     "execution_count": 15,
     "metadata": {},
     "output_type": "execute_result"
    }
   ],
   "source": [
    "# Publisher count sorted in descending order\n",
    "publisher_counts = data['publisher'].value_counts().sort_values(ascending = False)\n",
    "\n",
    "publisher_counts.head(10)"
   ]
  },
  {
   "cell_type": "code",
   "execution_count": 18,
   "metadata": {},
   "outputs": [
    {
     "data": {
      "image/png": "[encoded data removed]",
      "text/plain": [
       "<Figure size 1200x800 with 1 Axes>"
      ]
     },
     "metadata": {},
     "output_type": "display_data"
    }
   ],
   "source": [
    "\n",
    "# Get the top 10 publishers\n",
    "top_10_publishers = publisher_counts.head(10)\n",
    "\n",
    "# Plotting the top 10 publisher counts as a bar chart\n",
    "plt.figure(figsize=(12, 8))\n",
    "top_10_publishers.plot(kind='barh', color='skyblue')\n",
    "\n",
    "# Add titles and labels\n",
    "plt.title('Top 10 Publisher Counts')\n",
    "plt.xlabel('Publisher')\n",
    "plt.ylabel('Count')\n",
    "plt.xticks(rotation=45)\n",
    "\n",
    "# Show the plot\n",
    "plt.show()\n",
    "\n"
   ]
  },
  {
   "cell_type": "markdown",
   "metadata": {},
   "source": [
    "## 2.Analysis on publication dates"
   ]
  },
  {
   "cell_type": "code",
   "execution_count": 19,
   "metadata": {},
   "outputs": [
    {
     "data": {
      "image/png": "[encoded data removed]",
      "text/plain": [
       "<Figure size 640x480 with 1 Axes>"
      ]
     },
     "metadata": {},
     "output_type": "display_data"
    }
   ],
   "source": [
    "# Convert the data column to datetime format\n",
    "data['datetime'] = pd.to_datetime(data['date'], errors='coerce')\n",
    "\n",
    "# Analyze publication frequency by day of week\n",
    "day_of_week_counts = data['datetime'].dt.dayofweek.value_counts()\n",
    "\n",
    "# Plot publication frequency by day of week\n",
    "plt.bar(day_of_week_counts.index, day_of_week_counts.values)\n",
    "plt.xlabel('Day of Week')\n",
    "plt.ylabel('Number of Articles')\n",
    "plt.title('Publication Frequency by Day of Week')\n",
    "plt.xticks([0, 1, 2, 3, 4, 5, 6], ['Mon', 'Tue', 'Wed', 'Thu', 'Fri', 'Sat', 'Sun'])  # Customize x-axis labels\n",
    "plt.tight_layout()\n",
    "plt.show()\n"
   ]
  },
  {
   "cell_type": "markdown",
   "metadata": {},
   "source": [
    "## 3.identify unique domains"
   ]
  },
  {
   "cell_type": "code",
   "execution_count": 24,
   "metadata": {},
   "outputs": [
    {
     "name": "stdout",
     "output_type": "stream",
     "text": [
      "Unique Domains:\n",
      "['' 'benzinga.com' 'gmail.com' 'andyswan.com' 'investdiva.com'\n",
      " 'eosdetroit.io' 'tothetick.com' 'forextraininggroup.com'\n",
      " 'stockmetrix.net']\n"
     ]
    }
   ],
   "source": [
    " #Apply the regex pattern to extract the domain from email addresses\n",
    "import re  # Import the regular expressions module\n",
    "\n",
    "# Define your regex pattern\n",
    "pattern = r'@([\\w.-]+)'\n",
    "\n",
    "# Assuming 'data' is your DataFrame\n",
    "data['domain'] = data['publisher'].apply(lambda x: re.findall(pattern, x)[0] if re.findall(pattern, x) else '')\n",
    "\n",
    "# Get the unique domains\n",
    "unique_domains = data['domain'].unique()\n",
    "\n",
    "# Print the results\n",
    "print(\"Unique Domains:\")\n",
    "print(unique_domains)\n"
   ]
  },
  {
   "cell_type": "markdown",
   "metadata": {},
   "source": [
    "# Text Analysis"
   ]
  },
  {
   "cell_type": "code",
   "execution_count": 20,
   "metadata": {},
   "outputs": [
    {
     "name": "stdout",
     "output_type": "stream",
     "text": [
      "Original Headline: Stocks That Hit 52-Week Highs On Friday\n",
      "Sentiment: Sentiment(polarity=0.0, subjectivity=0.0)\n",
      "Sentiment Category: Neutral\n",
      "------\n",
      "Original Headline: Stocks That Hit 52-Week Highs On Wednesday\n",
      "Sentiment: Sentiment(polarity=0.0, subjectivity=0.0)\n",
      "Sentiment Category: Neutral\n",
      "------\n",
      "Original Headline: 71 Biggest Movers From Friday\n",
      "Sentiment: Sentiment(polarity=0.0, subjectivity=0.0)\n",
      "Sentiment Category: Neutral\n",
      "------\n",
      "Original Headline: 46 Stocks Moving In Friday's Mid-Day Session\n",
      "Sentiment: Sentiment(polarity=0.0, subjectivity=0.0)\n",
      "Sentiment Category: Neutral\n",
      "------\n",
      "Original Headline: B of A Securities Maintains Neutral on Agilent Technologies, Raises Price Target to $88\n",
      "Sentiment: Sentiment(polarity=0.0, subjectivity=0.0)\n",
      "Sentiment Category: Neutral\n",
      "------\n",
      "Original Headline: CFRA Maintains Hold on Agilent Technologies, Lowers Price Target to $85\n",
      "Sentiment: Sentiment(polarity=0.0, subjectivity=0.0)\n",
      "Sentiment Category: Neutral\n",
      "------\n",
      "Original Headline: UBS Maintains Neutral on Agilent Technologies, Raises Price Target to $87\n",
      "Sentiment: Sentiment(polarity=0.0, subjectivity=0.0)\n",
      "Sentiment Category: Neutral\n",
      "------\n",
      "Original Headline: Agilent Technologies shares are trading higher after the company reported better-than-expected Q2 EPS and sales results.\n",
      "Sentiment: Sentiment(polarity=0.25, subjectivity=0.5)\n",
      "Sentiment Category: Neutral\n",
      "------\n",
      "Original Headline: Wells Fargo Maintains Overweight on Agilent Technologies, Raises Price Target to $95\n",
      "Sentiment: Sentiment(polarity=0.0, subjectivity=0.0)\n",
      "Sentiment Category: Neutral\n",
      "------\n",
      "Original Headline: 10 Biggest Price Target Changes For Friday\n",
      "Sentiment: Sentiment(polarity=0.0, subjectivity=0.0)\n",
      "Sentiment Category: Neutral\n",
      "------\n",
      "Original Headline: 30 Stocks Moving in Friday's Pre-Market Session\n",
      "Sentiment: Sentiment(polarity=0.0, subjectivity=0.0)\n",
      "Sentiment Category: Neutral\n",
      "------\n",
      "Original Headline: SVB Leerink Maintains Outperform on Agilent Technologies, Raises Price Target to $95\n",
      "Sentiment: Sentiment(polarity=0.0, subjectivity=0.0)\n",
      "Sentiment Category: Neutral\n",
      "------\n",
      "Original Headline: 8 Stocks Moving In Thursday's After-Hours Session\n",
      "Sentiment: Sentiment(polarity=0.0, subjectivity=0.0)\n",
      "Sentiment Category: Neutral\n",
      "------\n",
      "Original Headline: Agilent Technologies shares are trading higher after the company reported better-than-expected Q2 EPS and sales results.\n",
      "Sentiment: Sentiment(polarity=0.25, subjectivity=0.5)\n",
      "Sentiment Category: Neutral\n",
      "------\n",
      "Original Headline: Agilent Technologies Q2 Adj. EPS $0.71 Beats $0.61 Estimate, Sales $1.24B Beat $1.21B Estimate\n",
      "Sentiment: Sentiment(polarity=0.0, subjectivity=0.0)\n",
      "Sentiment Category: Neutral\n",
      "------\n",
      "Original Headline: Earnings Scheduled For May 21, 2020\n",
      "Sentiment: Sentiment(polarity=0.0, subjectivity=0.0)\n",
      "Sentiment Category: Neutral\n",
      "------\n",
      "Original Headline: Agilent Technologies Receives FDA Approval for PD-L1 as a Companion Diagnostic\n",
      "Sentiment: Sentiment(polarity=0.0, subjectivity=0.0)\n",
      "Sentiment Category: Neutral\n",
      "------\n",
      "Original Headline: Q1 13F Roundup: How Buffett, Einhorn, Ackman And Others Adjusted Their Portfolios\n",
      "Sentiment: Sentiment(polarity=0.0, subjectivity=0.0)\n",
      "Sentiment Category: Neutral\n",
      "------\n",
      "Original Headline: Pershing Square 13F Shows Fund Raises Stake In Agilent Technologies To 12,626,593 Shares\n",
      "Sentiment: Sentiment(polarity=0.0, subjectivity=0.0)\n",
      "Sentiment Category: Neutral\n",
      "------\n",
      "Original Headline: How Bill Ackman Successfully Navigated Coronavirus Market Volatility\n",
      "Sentiment: Sentiment(polarity=0.75, subjectivity=0.95)\n",
      "Sentiment Category: Positive\n",
      "------\n",
      "Original Headline: Shares of several healthcare companies are trading higher amid positive investor sentiment as some US states begin to reopen their economies and as oil prices gain for the session.\n",
      "Sentiment: Sentiment(polarity=0.1590909090909091, subjectivity=0.34848484848484845)\n",
      "Sentiment Category: Neutral\n",
      "------\n",
      "Original Headline: Shares of several healthcare companies are trading lower as markets dip following recent strength. Markets have sold off as investors weigh recent earnings and amid concerns of renewed US-China trade frictions.\n",
      "Sentiment: Sentiment(polarity=0.0, subjectivity=0.15)\n",
      "Sentiment Category: Neutral\n",
      "------\n",
      "Original Headline: UBS Maintains Neutral on Agilent Technologies, Lowers Price Target to $84\n",
      "Sentiment: Sentiment(polarity=0.0, subjectivity=0.0)\n",
      "Sentiment Category: Neutral\n",
      "------\n",
      "Original Headline: Agilent Reports FDA Approval For PD-L1 Companion Diagnostic On Dako Omni\n",
      "Sentiment: Sentiment(polarity=0.0, subjectivity=0.0)\n",
      "Sentiment Category: Neutral\n",
      "------\n",
      "Original Headline: Agilent Reports Has Become Top-Level Sponsor Of My Green Lab\n",
      "Sentiment: Sentiment(polarity=-0.2, subjectivity=0.3)\n",
      "Sentiment Category: Neutral\n",
      "------\n",
      "Original Headline: Agilent Withdraws Q2 And FY20 Guidance\n",
      "Sentiment: Sentiment(polarity=0.0, subjectivity=0.0)\n",
      "Sentiment Category: Neutral\n",
      "------\n",
      "Original Headline: Shares of several companies in the auto dealer space are trading higher amid positive market sentiment. Speculation some coronavirus hotspots leveling off has raised hopes of a return to economic activity, which could mean a rebound in consumer spending.\n",
      "Sentiment: Sentiment(polarity=0.07295454545454545, subjectivity=0.3865909090909091)\n",
      "Sentiment Category: Neutral\n",
      "------\n",
      "Original Headline: Shares of several healthcare companies are trading higher as markets gain amid optimism that coronavirus cases in several US hotspots may be peaking. A sooner peak could mean a sooner return to economic activity.\n",
      "Sentiment: Sentiment(polarity=0.027500000000000004, subjectivity=0.27749999999999997)\n",
      "Sentiment Category: Neutral\n",
      "------\n",
      "Original Headline: Stifel Maintains Hold on Agilent Technologies, Lowers Price Target to $73\n",
      "Sentiment: Sentiment(polarity=0.0, subjectivity=0.0)\n",
      "Sentiment Category: Neutral\n",
      "------\n",
      "Original Headline: Shares of several healthcare companies are trading lower amid market weakness as growing coronavirus concerns in the US weigh on equities.\n",
      "Sentiment: Sentiment(polarity=0.0, subjectivity=0.0)\n",
      "Sentiment Category: Neutral\n",
      "------\n",
      "Original Headline: Int'l. Air Transport Authority Chief Economist Sees Consolidation In Airline Sector As Some Airlines Fail, Calls Signs In Chinese Domestic Market 'Encouraging,' Load Factors Are About 60%\n",
      "Sentiment: Sentiment(polarity=-0.16666666666666666, subjectivity=0.13333333333333333)\n",
      "Sentiment Category: Neutral\n",
      "------\n",
      "Original Headline: Wells Fargo Maintains Overweight on Agilent Technologies, Lowers Price Target to $82\n",
      "Sentiment: Sentiment(polarity=0.0, subjectivity=0.0)\n",
      "Sentiment Category: Neutral\n",
      "------\n",
      "Original Headline: Shares of several technology companies are trading higher as equities continue to rise following last week's rebound amid US stimulus measures.\n",
      "Sentiment: Sentiment(polarity=0.0625, subjectivity=0.16666666666666666)\n",
      "Sentiment Category: Neutral\n",
      "------\n",
      "Original Headline: Shares of several healthcare companies are trading lower, selling off from this week's strength. While the US stimulus package boosted economic optimism, demand concerns still exist amid the coronavirus outbreak.\n",
      "Sentiment: Sentiment(polarity=0.1, subjectivity=0.1)\n",
      "Sentiment Category: Neutral\n",
      "------\n",
      "Original Headline: Shares of several healthcare companies are trading higher following Senate passage of a $2 trillion economic stimulus package, which has lifted stocks across sectors.\n",
      "Sentiment: Sentiment(polarity=0.1125, subjectivity=0.2)\n",
      "Sentiment Category: Neutral\n",
      "------\n",
      "Original Headline: Barclays Maintains Equal-Weight on Agilent Technologies, Lowers Price Target to $76\n",
      "Sentiment: Sentiment(polarity=0.0, subjectivity=0.0)\n",
      "Sentiment Category: Neutral\n",
      "------\n",
      "Original Headline: Ariel Chairman John Rogers Thinks Current Market Is 'Once In A Lifetime Opportunity To Buy Stocks'\n",
      "Sentiment: Sentiment(polarity=0.0, subjectivity=0.4)\n",
      "Sentiment Category: Neutral\n",
      "------\n",
      "Original Headline: Citigroup Maintains Neutral on Agilent Technologies, Lowers Price Target to $75\n",
      "Sentiment: Sentiment(polarity=0.0, subjectivity=0.0)\n",
      "Sentiment Category: Neutral\n",
      "------\n",
      "Original Headline: Stocks That Hit 52-Week Lows On Monday\n",
      "Sentiment: Sentiment(polarity=0.0, subjectivity=0.0)\n",
      "Sentiment Category: Neutral\n",
      "------\n",
      "Original Headline: Shares of several healthcare companies are trading lower in sympathy with the overall market on continued downward momentum caused by the coronavirus. The virus has had a negative impact on the global economy.\n",
      "Sentiment: Sentiment(polarity=-0.075, subjectivity=0.1)\n",
      "Sentiment Category: Neutral\n",
      "------\n",
      "Original Headline: Shares of several basic materials companies are trading higher, rebounding following Thursday's crash. The sector has been volatile amid the coronavirus outbreak, which has disrupted economic activity. NOTE: While markets rebound, virus fears persist.\n",
      "Sentiment: Sentiment(polarity=0.09, subjectivity=0.185)\n",
      "Sentiment Category: Neutral\n",
      "------\n",
      "Original Headline: Stocks That Hit 52-Week Lows On Thursday\n",
      "Sentiment: Sentiment(polarity=0.0, subjectivity=0.0)\n",
      "Sentiment Category: Neutral\n",
      "------\n",
      "Original Headline: Shares of several coronavirus-related companies including vaccine makers, protective apparel manufacturers and emergency medical suppliers are trading higher as the coronavirus continues to spread globally.\n",
      "Sentiment: Sentiment(polarity=0.0625, subjectivity=0.125)\n",
      "Sentiment Category: Neutral\n",
      "------\n",
      "Original Headline: Agilent Technologies Inc Says In January 2020, Net Revenue Was Negatively Impacted Due To The Public Health Crisis In China; Says In Jan 2020, Net Revenue Negatively Impacted Also Due To Extension Of Lunar New Year Resulting In Fewer Selling Days In Month\n",
      "Sentiment: Sentiment(polarity=-0.08920454545454545, subjectivity=0.25890151515151516)\n",
      "Sentiment Category: Neutral\n",
      "------\n",
      "Original Headline: Shares of several healthcare companies are trading higher in sympathy with the overall market as it rebounds from a selloff caused by coronavirus fears.\n",
      "Sentiment: Sentiment(polarity=0.08333333333333333, subjectivity=0.16666666666666666)\n",
      "Sentiment Category: Neutral\n",
      "------\n",
      "Original Headline: Benzinga's Top Upgrades, Downgrades For February 24, 2020\n",
      "Sentiment: Sentiment(polarity=0.5, subjectivity=0.5)\n",
      "Sentiment Category: Neutral\n",
      "------\n",
      "Original Headline: Shares of several software companies are trading lower as the coronavirus cases surge outside of China. NOTE: The virus has raised fear of a global economic slowdown.\n",
      "Sentiment: Sentiment(polarity=0.05, subjectivity=0.0625)\n",
      "Sentiment Category: Neutral\n",
      "------\n",
      "Original Headline: Needham Downgrades Agilent Technologies to Hold, Announces $85 Price Target\n",
      "Sentiment: Sentiment(polarity=0.0, subjectivity=0.0)\n",
      "Sentiment Category: Neutral\n",
      "------\n",
      "Original Headline: UBS Maintains Neutral on Agilent Technologies, Raises Price Target to $90\n",
      "Sentiment: Sentiment(polarity=0.0, subjectivity=0.0)\n",
      "Sentiment Category: Neutral\n",
      "------\n",
      "Original Headline: 12 Stocks Moving In Tuesday's After-Hours Session\n",
      "Sentiment: Sentiment(polarity=0.0, subjectivity=0.0)\n",
      "Sentiment Category: Neutral\n",
      "------\n",
      "Original Headline: Agilent Technologies shares are trading lower after the company reported Q1 earnings.\n",
      "Sentiment: Sentiment(polarity=0.0, subjectivity=0.0)\n",
      "Sentiment Category: Neutral\n",
      "------\n",
      "Original Headline: Agilent Reaffirms FY20 Guidance: Adj. EPS $3.38-$3.43 vs $3.42 Estimate, Sales $5.5B-$5.55B vs $5.54B Est.\n",
      "Sentiment: Sentiment(polarity=0.0, subjectivity=0.0)\n",
      "Sentiment Category: Neutral\n",
      "------\n",
      "Original Headline: Agilent Technologies Q1 EPS $0.81, Inline, Sales $1.36B Up From $1.284B YoY\n",
      "Sentiment: Sentiment(polarity=0.0, subjectivity=0.0)\n",
      "Sentiment Category: Neutral\n",
      "------\n",
      "Original Headline: Q4 13F Roundup: How Buffett, Einhorn, Ackman And Others Adjusted Their Portfolios\n",
      "Sentiment: Sentiment(polarity=0.0, subjectivity=0.0)\n",
      "Sentiment Category: Neutral\n",
      "------\n",
      "Original Headline: 9 Stocks To Watch For February 18, 2020\n",
      "Sentiment: Sentiment(polarity=0.0, subjectivity=0.0)\n",
      "Sentiment Category: Neutral\n",
      "------\n",
      "Original Headline: Earnings Scheduled For February 18, 2020\n",
      "Sentiment: Sentiment(polarity=0.0, subjectivity=0.0)\n",
      "Sentiment Category: Neutral\n",
      "------\n",
      "Original Headline: Pershing Square 13F Shows Raised Stake In Agilent By 11.4% To 3.25M Shares\n",
      "Sentiment: Sentiment(polarity=0.0, subjectivity=0.0)\n",
      "Sentiment Category: Neutral\n",
      "------\n",
      "Original Headline: Twist Bioscience Reports Settlement Deal With Agilent; Co. Will Pay Agilent $22.5M\n",
      "Sentiment: Sentiment(polarity=0.0, subjectivity=0.0)\n",
      "Sentiment Category: Neutral\n",
      "------\n",
      "Original Headline: Cowen Says Views Potential Twist-Agilent Settlement As 'a likely clearing event for additional investment in TWST'\n",
      "Sentiment: Sentiment(polarity=0.0, subjectivity=1.0)\n",
      "Sentiment Category: Neutral\n",
      "------\n",
      "Original Headline: Pershing Square Sees 'Substantial Opportunity' For Improvement In Agilent's A.N Business Performance\n",
      "Sentiment: Sentiment(polarity=0.0, subjectivity=0.0)\n",
      "Sentiment Category: Neutral\n",
      "------\n",
      "Original Headline: Agilent shares are trading lower. Not seeing any news to justify the price action.\n",
      "Sentiment: Sentiment(polarity=0.1, subjectivity=0.1)\n",
      "Sentiment Category: Neutral\n",
      "------\n",
      "Original Headline: Stocks That Hit 52-Week Highs On Wednesday\n",
      "Sentiment: Sentiment(polarity=0.0, subjectivity=0.0)\n",
      "Sentiment Category: Neutral\n",
      "------\n",
      "Original Headline: Stocks That Hit 52-Week Highs On Friday\n",
      "Sentiment: Sentiment(polarity=0.0, subjectivity=0.0)\n",
      "Sentiment Category: Neutral\n",
      "------\n",
      "Original Headline: Stocks That Hit 52-Week Highs On Thursday\n",
      "Sentiment: Sentiment(polarity=0.0, subjectivity=0.0)\n",
      "Sentiment Category: Neutral\n",
      "------\n",
      "Original Headline: Stocks That Hit 52-Week Highs On Wednesday\n",
      "Sentiment: Sentiment(polarity=0.0, subjectivity=0.0)\n",
      "Sentiment Category: Neutral\n",
      "------\n",
      "Original Headline: Stocks That Hit 52-Week Highs On Friday\n",
      "Sentiment: Sentiment(polarity=0.0, subjectivity=0.0)\n",
      "Sentiment Category: Neutral\n",
      "------\n",
      "Original Headline: Stocks That Hit 52-Week Highs On Thursday\n",
      "Sentiment: Sentiment(polarity=0.0, subjectivity=0.0)\n",
      "Sentiment Category: Neutral\n",
      "------\n",
      "Original Headline: Wells Fargo Initiates Coverage On Agilent Technologies with Overweight Rating, Announces $100 Price Target\n",
      "Sentiment: Sentiment(polarity=0.0, subjectivity=0.0)\n",
      "Sentiment Category: Neutral\n",
      "------\n",
      "Original Headline: Citigroup Initiates Coverage On Agilent Technologies with Neutral Rating, Announces $85 Price Target\n",
      "Sentiment: Sentiment(polarity=0.0, subjectivity=0.0)\n",
      "Sentiment Category: Neutral\n",
      "------\n",
      "Original Headline: Benzinga's Top Upgrades, Downgrades For January 3, 2020\n",
      "Sentiment: Sentiment(polarity=0.5, subjectivity=0.5)\n",
      "Sentiment Category: Neutral\n",
      "------\n",
      "Original Headline: Stocks That Hit 52-Week Highs On Friday\n",
      "Sentiment: Sentiment(polarity=0.0, subjectivity=0.0)\n",
      "Sentiment Category: Neutral\n",
      "------\n",
      "Original Headline: Stocks That Hit 52-Week Highs On Monday\n",
      "Sentiment: Sentiment(polarity=0.0, subjectivity=0.0)\n",
      "Sentiment Category: Neutral\n",
      "------\n",
      "Original Headline: Stocks That Hit 52-Week Highs On Friday\n",
      "Sentiment: Sentiment(polarity=0.0, subjectivity=0.0)\n",
      "Sentiment Category: Neutral\n",
      "------\n",
      "Original Headline: Stocks That Hit 52-Week Highs On Thursday\n",
      "Sentiment: Sentiment(polarity=0.0, subjectivity=0.0)\n",
      "Sentiment Category: Neutral\n",
      "------\n",
      "Original Headline: There's A New Trading Tool That Allows Traders To Trade Cannabis With Leverage\n",
      "Sentiment: Sentiment(polarity=0.13636363636363635, subjectivity=0.45454545454545453)\n",
      "Sentiment Category: Neutral\n",
      "------\n",
      "Original Headline: Stocks That Hit 52-Week Highs On Tuesday\n",
      "Sentiment: Sentiment(polarity=0.0, subjectivity=0.0)\n",
      "Sentiment Category: Neutral\n",
      "------\n",
      "Original Headline: PreMarket Prep Recap: Yo-Yo Market And After-Hours Overshoot On Ackman's New Stake\n",
      "Sentiment: Sentiment(polarity=0.13636363636363635, subjectivity=0.45454545454545453)\n",
      "Sentiment Category: Neutral\n",
      "------\n",
      "Original Headline: 41 Healthcare Stocks Moving In Tuesday's Pre-Market Session\n",
      "Sentiment: Sentiment(polarity=0.0, subjectivity=0.0)\n",
      "Sentiment Category: Neutral\n",
      "------\n",
      "Original Headline: UPDATE: Bill Ackman's Pershing Square Files Amended 13F Showing New ~2.916M Share Stake In Agilent\n",
      "Sentiment: Sentiment(polarity=0.13636363636363635, subjectivity=0.45454545454545453)\n",
      "Sentiment Category: Neutral\n",
      "------\n",
      "Original Headline: Hearing Pershing Square Reports 2.9M Share Stake In Agilent\n",
      "Sentiment: Sentiment(polarity=0.0, subjectivity=0.0)\n",
      "Sentiment Category: Neutral\n",
      "------\n",
      "Original Headline: Stocks That Hit 52-Week Highs On Friday\n",
      "Sentiment: Sentiment(polarity=0.0, subjectivity=0.0)\n",
      "Sentiment Category: Neutral\n",
      "------\n",
      "Original Headline: UBS Maintains Neutral on Agilent Technologies, Raises Price Target to $87\n",
      "Sentiment: Sentiment(polarity=0.0, subjectivity=0.0)\n",
      "Sentiment Category: Neutral\n",
      "------\n",
      "Original Headline: Aligent shares are trading higher after the company reported better-than-expected Q4 EPS and sales results.\n",
      "Sentiment: Sentiment(polarity=0.25, subjectivity=0.5)\n",
      "Sentiment Category: Neutral\n",
      "------\n",
      "Original Headline: Agilent Sees FY20 Adj. EPS $3.38-$3.43 vs $3.44 Estimate, Sales $5.5B-$5.55B vs $5.55B Est.\n",
      "Sentiment: Sentiment(polarity=0.0, subjectivity=0.0)\n",
      "Sentiment Category: Neutral\n",
      "------\n",
      "Original Headline: Agilent Sees Q1 Adj. EPS $0.80-$0.81 vs $0.84 Estimate, Sales $1.34B-$1.355B vs $1.38B Est.\n",
      "Sentiment: Sentiment(polarity=0.0, subjectivity=0.0)\n",
      "Sentiment Category: Neutral\n",
      "------\n",
      "Original Headline: Agilent Technologies Q4 Adj. EPS $0.89 Beats $0.85 Estimate, Sales $1.37B Beat $1.33B Estimate\n",
      "Sentiment: Sentiment(polarity=0.0, subjectivity=0.0)\n",
      "Sentiment Category: Neutral\n",
      "------\n",
      "Original Headline: 7 Stocks To Watch For November 25, 2019\n",
      "Sentiment: Sentiment(polarity=0.0, subjectivity=0.0)\n",
      "Sentiment Category: Neutral\n",
      "------\n",
      "Original Headline: Earnings Scheduled For November 25, 2019\n",
      "Sentiment: Sentiment(polarity=0.0, subjectivity=0.0)\n",
      "Sentiment Category: Neutral\n",
      "------\n",
      "Original Headline: Agilent Raises Qtr. Dividend From $0.164 To $0.18/Share\n",
      "Sentiment: Sentiment(polarity=0.0, subjectivity=0.0)\n",
      "Sentiment Category: Neutral\n",
      "------\n",
      "Original Headline: Benzinga's Top Upgrades, Downgrades For November 15, 2019\n",
      "Sentiment: Sentiment(polarity=0.5, subjectivity=0.5)\n",
      "Sentiment Category: Neutral\n",
      "------\n",
      "Original Headline: Stifel Nicolaus Initiates Coverage On Agilent Technologies with Hold Rating, Announces $85 Price Target\n",
      "Sentiment: Sentiment(polarity=0.0, subjectivity=0.0)\n",
      "Sentiment Category: Neutral\n",
      "------\n",
      "Original Headline: Benzinga's Top Upgrades, Downgrades For October 18, 2019\n",
      "Sentiment: Sentiment(polarity=0.5, subjectivity=0.5)\n",
      "Sentiment Category: Neutral\n",
      "------\n",
      "Original Headline: A Peek Into The Markets: US Stock Futures Edge Higher Ahead Of Fed Speakers\n",
      "Sentiment: Sentiment(polarity=0.25, subjectivity=0.5)\n",
      "Sentiment Category: Neutral\n",
      "------\n",
      "Original Headline: UBS Downgrades Agilent Technologies to Neutral, Announces $82 Price Target\n",
      "Sentiment: Sentiment(polarity=0.0, subjectivity=0.0)\n",
      "Sentiment Category: Neutral\n",
      "------\n",
      "Original Headline: Shares of several healthcare companies are trading higher after President Trump made positive remarks on the U.S.-China trade talks as traders grew more optimistic over the possibility of a limited trade deal. Trump is scheduled to meet with Chinese Vice Premier Liu He at the White House today.\n",
      "Sentiment: Sentiment(polarity=0.12940630797773656, subjectivity=0.2411873840445269)\n",
      "Sentiment Category: Neutral\n",
      "------\n",
      "Original Headline: Barclays Maintains Equal-Weight on Agilent Technologies, Lowers Price Target to $76\n",
      "Sentiment: Sentiment(polarity=0.0, subjectivity=0.0)\n",
      "Sentiment Category: Neutral\n",
      "------\n",
      "Original Headline: Shares of several healthcare companies are trading lower with the broader market after the US expanded its trade blacklist to include China's top AI firms. The US also will increase its tariffs on $250 billion worth of goods from 25% to 30% on Oct 15.\n",
      "Sentiment: Sentiment(polarity=0.26666666666666666, subjectivity=0.19999999999999998)\n",
      "Sentiment Category: Neutral\n",
      "------\n",
      "Original Headline: Shares of several healthcare companies are trading lower in sympathy with the overall market on continued fears of a recession amid a weak ADP jobs report. There is also uncertainty in the market over the upcoming U.S.-China meeting next week.\n",
      "Sentiment: Sentiment(polarity=-0.09375, subjectivity=0.15625)\n",
      "Sentiment Category: Neutral\n",
      "------\n",
      "Original Headline: Shares of several healthcare companies are trading higher in sympathy with the overall market after the Chinese Minister of Commerce said the leaders of the U.S. and China are set to meet in Washington D.C in early October. Investors hope the meeting could bring the two countries closer to a trade deal.\n",
      "Sentiment: Sentiment(polarity=0.06999999999999999, subjectivity=0.16)\n",
      "Sentiment Category: Neutral\n",
      "------\n",
      "Original Headline: Agilent Collaborates On Study Of Performance-Enhancing Spinach Extract\n",
      "Sentiment: Sentiment(polarity=0.0, subjectivity=0.0)\n",
      "Sentiment Category: Neutral\n",
      "------\n"
     ]
    }
   ],
   "source": [
    "# Sentiment Analysis on the first 10 headlines\n",
    "sentiment_analysis = []\n",
    "for headline in data['headline'].head(100):  # Use head(10) to get the first 50000\n",
    "  sentiment = TextBlob(headline).sentiment\n",
    "  sentiment_analysis.append({\n",
    "      \"original_headline\": headline,  # Can be replaced with original headline if needed\n",
    "      \"sentiment\": sentiment,\n",
    "      \"sentiment_category\": \"Positive\" if sentiment.polarity > 0.5 else (\"Negative\" if sentiment.polarity < -0.5 else \"Neutral\")\n",
    "  })\n",
    "\n",
    "# Print results\n",
    "for analysis in sentiment_analysis:\n",
    "  print(f\"Original Headline: {analysis['original_headline']}\")  # Can be replaced with original headline if needed\n",
    "  print(f\"Sentiment: {analysis['sentiment']}\")\n",
    "  print(f\"Sentiment Category: {analysis['sentiment_category']}\")\n",
    "  print(\"------\")"
   ]
  },
  {
   "cell_type": "code",
   "execution_count": 21,
   "metadata": {},
   "outputs": [
    {
     "data": {
      "image/png": "[encoded data removed]",
      "text/plain": [
       "<Figure size 800x600 with 1 Axes>"
      ]
     },
     "metadata": {},
     "output_type": "display_data"
    }
   ],
   "source": [
    "# Count sentiment occurrences\n",
    "sentiment_counts = {\"Positive\": 0, \"Negative\": 0, \"Neutral\": 0}\n",
    "for analysis in sentiment_analysis:\n",
    "  sentiment_counts[analysis[\"sentiment_category\"]] += 1\n",
    "\n",
    "# Extract sentiment categories and counts\n",
    "sentiment_categories = list(sentiment_counts.keys())\n",
    "sentiment_values = list(sentiment_counts.values())\n",
    "\n",
    "# Create bar chart\n",
    "plt.figure(figsize=(8, 6))  # Adjust figure size as needed\n",
    "plt.bar(sentiment_categories, sentiment_values, color=['green', 'red', 'gray'])\n",
    "plt.xlabel(\"Sentiment Category\")\n",
    "plt.ylabel(\"Number of Headlines\")\n",
    "plt.title(\"Sentiment Distribution in Headlines\")\n",
    "plt.xticks(rotation=45)  # Rotate x-axis labels for better readability\n",
    "plt.tight_layout()\n",
    "plt.show()"
   ]
  },
  {
   "cell_type": "markdown",
   "metadata": {},
   "source": [
    "# Time-series Analysis"
   ]
  },
  {
   "cell_type": "code",
   "execution_count": 25,
   "metadata": {},
   "outputs": [
    {
     "data": {
      "image/png": "[encoded data removed]",
      "text/plain": [
       "<Figure size 1000x600 with 1 Axes>"
      ]
     },
     "metadata": {},
     "output_type": "display_data"
    }
   ],
   "source": [
    "# Assuming 'date' column contains publication dates\n",
    "data['datetime'] = pd.to_datetime(data['date'], errors='coerce')  # Adjust format if needed\n",
    "\n",
    "# Set 'datetime' as the index\n",
    "data.set_index('datetime', inplace=True)\n",
    "\n",
    "# Now you can use resample\n",
    "daily_counts = data.resample('D')['headline'].count()\n",
    "\n",
    "# Plot daily publication frequency\n",
    "plt.figure(figsize=(10, 6))\n",
    "daily_counts.plot(kind='line')\n",
    "plt.xlabel('Date')\n",
    "plt.ylabel('Number of Articles')\n",
    "plt.title('Daily Publication Frequency')\n",
    "plt.show()"
   ]
  },
  {
   "cell_type": "markdown",
   "metadata": {},
   "source": [
    "# Date Alignment"
   ]
  },
  {
   "cell_type": "code",
   "execution_count": 91,
   "metadata": {},
   "outputs": [
    {
     "name": "stdout",
     "output_type": "stream",
     "text": [
      "            Unnamed: 0                                           headline  \\\n",
      "date                                                                        \n",
      "2020-06-05           0            Stocks That Hit 52-Week Highs On Friday   \n",
      "2020-06-03           1         Stocks That Hit 52-Week Highs On Wednesday   \n",
      "2020-05-26           2                      71 Biggest Movers From Friday   \n",
      "2020-05-22           3       46 Stocks Moving In Friday's Mid-Day Session   \n",
      "2020-05-22           4  B of A Securities Maintains Neutral on Agilent...   \n",
      "\n",
      "                                                          url  \\\n",
      "date                                                            \n",
      "2020-06-05  https://www.benzinga.com/news/20/06/16190091/s...   \n",
      "2020-06-03  https://www.benzinga.com/news/20/06/16170189/s...   \n",
      "2020-05-26  https://www.benzinga.com/news/20/05/16103463/7...   \n",
      "2020-05-22  https://www.benzinga.com/news/20/05/16095921/4...   \n",
      "2020-05-22  https://www.benzinga.com/news/20/05/16095304/b...   \n",
      "\n",
      "                    publisher stock  \n",
      "date                                 \n",
      "2020-06-05  Benzinga Insights     A  \n",
      "2020-06-03  Benzinga Insights     A  \n",
      "2020-05-26         Lisa Levin     A  \n",
      "2020-05-22         Lisa Levin     A  \n",
      "2020-05-22         Vick Meyer     A  \n"
     ]
    }
   ],
   "source": [
    "# Convert 'date' column to datetime format in the news data\n",
    "data['date'] = pd.to_datetime(data['date'])\n",
    "\n",
    "# Set 'date' as the index for the news DataFrame\n",
    "data.set_index('date', inplace=True)\n",
    "\n",
    "# Display the first few rows to verify\n",
    "print(data.head())\n"
   ]
  },
  {
   "cell_type": "code",
   "execution_count": 92,
   "metadata": {},
   "outputs": [
    {
     "name": "stdout",
     "output_type": "stream",
     "text": [
      "Duplicate dates found:\n",
      "DatetimeIndex(['2020-05-22', '2020-05-22', '2020-05-22', '2020-05-22',\n",
      "               '2020-05-22', '2020-05-22', '2020-05-22', '2020-05-22',\n",
      "               '2020-05-21', '2020-05-21',\n",
      "               ...\n",
      "               '2013-07-29', '2013-07-26', '2013-07-25', '2013-07-15',\n",
      "               '2013-06-18', '2013-06-14', '2013-06-04', '2013-06-04',\n",
      "               '2013-05-02', '2013-03-22'],\n",
      "              dtype='datetime64[ns]', name='date', length=1044634, freq=None)\n"
     ]
    }
   ],
   "source": [
    "# Check for duplicate dates in the news DataFrame\n",
    "duplicates = data.index.duplicated()\n",
    "if duplicates.any():\n",
    "    print(\"Duplicate dates found:\")\n",
    "    print(data.index[duplicates])\n"
   ]
  },
  {
   "cell_type": "code",
   "execution_count": 93,
   "metadata": {},
   "outputs": [],
   "source": [
    "# Drop duplicate dates, keeping the first occurrence\n",
    "data = data[~data.index.duplicated(keep='first')]\n"
   ]
  },
  {
   "cell_type": "code",
   "execution_count": 95,
   "metadata": {},
   "outputs": [
    {
     "name": "stdout",
     "output_type": "stream",
     "text": [
      "Index is monotonic increasing: False\n",
      "Index is monotonic decreasing: False\n"
     ]
    }
   ],
   "source": [
    "# Check if the index is monotonic increasing\n",
    "is_monotonic = data.index.is_monotonic_increasing\n",
    "print(f\"Index is monotonic increasing: {is_monotonic}\")\n",
    "\n",
    "# Check if the index is monotonic decreasing\n",
    "is_monotonic = data.index.is_monotonic_decreasing\n",
    "print(f\"Index is monotonic decreasing: {is_monotonic}\")\n"
   ]
  },
  {
   "cell_type": "code",
   "execution_count": 96,
   "metadata": {},
   "outputs": [
    {
     "name": "stdout",
     "output_type": "stream",
     "text": [
      "True\n"
     ]
    }
   ],
   "source": [
    "# Sort the index of the news DataFrame\n",
    "data = data.sort_index()\n",
    "\n",
    "# Verify the index is now sorted\n",
    "print(data.index.is_monotonic_increasing)\n"
   ]
  },
  {
   "cell_type": "code",
   "execution_count": 98,
   "metadata": {},
   "outputs": [
    {
     "name": "stdout",
     "output_type": "stream",
     "text": [
      "                Open      High       Low     Close  Adj Close     Volume  \\\n",
      "Date                                                                       \n",
      "1980-12-12  0.128348  0.128906  0.128348  0.128348   0.098943  469033600   \n",
      "1980-12-15  0.122210  0.122210  0.121652  0.121652   0.093781  175884800   \n",
      "1980-12-16  0.113281  0.113281  0.112723  0.112723   0.086898  105728000   \n",
      "1980-12-17  0.115513  0.116071  0.115513  0.115513   0.089049   86441600   \n",
      "1980-12-18  0.118862  0.119420  0.118862  0.118862   0.091630   73449600   \n",
      "\n",
      "            Dividends  Stock Splits  SMA_20  RSI_14  MACD  MACD_signal  \\\n",
      "Date                                                                     \n",
      "1980-12-12        0.0           0.0     NaN     NaN   NaN          NaN   \n",
      "1980-12-15        0.0           0.0     NaN     NaN   NaN          NaN   \n",
      "1980-12-16        0.0           0.0     NaN     NaN   NaN          NaN   \n",
      "1980-12-17        0.0           0.0     NaN     NaN   NaN          NaN   \n",
      "1980-12-18        0.0           0.0     NaN     NaN   NaN          NaN   \n",
      "\n",
      "            MACD_hist  Unnamed: 0                      headline  \\\n",
      "Date                                                              \n",
      "1980-12-12        NaN      883755  How Treasuries and ETFs Work   \n",
      "1980-12-15        NaN      883755  How Treasuries and ETFs Work   \n",
      "1980-12-16        NaN      883755  How Treasuries and ETFs Work   \n",
      "1980-12-17        NaN      883755  How Treasuries and ETFs Work   \n",
      "1980-12-18        NaN      883755  How Treasuries and ETFs Work   \n",
      "\n",
      "                                                          url     publisher  \\\n",
      "Date                                                                          \n",
      "1980-12-12  https://www.benzinga.com/28044/how-treasuries-...  Paco Ahlgren   \n",
      "1980-12-15  https://www.benzinga.com/28044/how-treasuries-...  Paco Ahlgren   \n",
      "1980-12-16  https://www.benzinga.com/28044/how-treasuries-...  Paco Ahlgren   \n",
      "1980-12-17  https://www.benzinga.com/28044/how-treasuries-...  Paco Ahlgren   \n",
      "1980-12-18  https://www.benzinga.com/28044/how-treasuries-...  Paco Ahlgren   \n",
      "\n",
      "           stock  \n",
      "Date              \n",
      "1980-12-12   NAV  \n",
      "1980-12-15   NAV  \n",
      "1980-12-16   NAV  \n",
      "1980-12-17   NAV  \n",
      "1980-12-18   NAV  \n"
     ]
    }
   ],
   "source": [
    "# Reindex news data to match the dates in the stock data (combined_df)\n",
    "data = data.reindex(combined_df.index, method='nearest')\n",
    "\n",
    "# Forward fill or backward fill any missing dates in the news data\n",
    "data.fillna(method='ffill', inplace=True)\n",
    "# Join the stock data (combined_df) with the news data on the Date index\n",
    "merged_df = combined_df.join(data, how='inner')\n",
    "\n",
    "# Display the first few rows of the merged DataFrame\n",
    "print(merged_df.head())"
   ]
  },
  {
   "cell_type": "markdown",
   "metadata": {},
   "source": [
    "# Sentiment Analysis"
   ]
  },
  {
   "cell_type": "code",
   "execution_count": 111,
   "metadata": {},
   "outputs": [
    {
     "name": "stdout",
     "output_type": "stream",
     "text": [
      "                                headline  Sentiment_Score\n",
      "Date                                                     \n",
      "1980-12-12  How Treasuries and ETFs Work              0.0\n",
      "1980-12-15  How Treasuries and ETFs Work              0.0\n",
      "1980-12-16  How Treasuries and ETFs Work              0.0\n",
      "1980-12-17  How Treasuries and ETFs Work              0.0\n",
      "1980-12-18  How Treasuries and ETFs Work              0.0\n"
     ]
    }
   ],
   "source": [
    "\n",
    "# Perform sentiment analysis\n",
    "def get_sentiment_score(text):\n",
    "    return TextBlob(text).sentiment.polarity\n",
    "\n",
    "# Apply sentiment analysis to the headlines\n",
    "merged_df['Sentiment_Score'] = merged_df['headline'].apply(get_sentiment_score)\n",
    "\n",
    "# Verify that the new column is added\n",
    "print(merged_df[['headline', 'Sentiment_Score']].head())\n"
   ]
  },
  {
   "cell_type": "code",
   "execution_count": 113,
   "metadata": {},
   "outputs": [
    {
     "data": {
      "image/png": "[encoded data removed]",
      "text/plain": [
       "<Figure size 1000x600 with 1 Axes>"
      ]
     },
     "metadata": {},
     "output_type": "display_data"
    }
   ],
   "source": [
    "# Count the occurrences of each sentiment\n",
    "sentiment_counts = data['sentiment'].value_counts()\n",
    "\n",
    "# Create a bar plot\n",
    "plt.figure(figsize=(10, 6))\n",
    "sns.barplot(x=sentiment_counts.index, y=sentiment_counts.values, palette='viridis')\n",
    "\n",
    "# Add titles and labels\n",
    "plt.title('Sentiment Analysis Counts')\n",
    "plt.xlabel('Sentiment')\n",
    "plt.ylabel('Count')\n",
    "\n",
    "# Display the plot\n",
    "plt.show()"
   ]
  },
  {
   "cell_type": "markdown",
   "metadata": {},
   "source": [
    "# Analysis\n",
    "## calculate Daily Stock Returns"
   ]
  },
  {
   "cell_type": "code",
   "execution_count": 114,
   "metadata": {},
   "outputs": [
    {
     "name": "stdout",
     "output_type": "stream",
     "text": [
      "               Close  Daily_Return\n",
      "Date                              \n",
      "1980-12-12  0.128348           NaN\n",
      "1980-12-15  0.121652     -0.052171\n",
      "1980-12-16  0.112723     -0.073398\n",
      "1980-12-17  0.115513      0.024751\n",
      "1980-12-18  0.118862      0.028992\n"
     ]
    }
   ],
   "source": [
    "# Calculate daily stock returns\n",
    "merged_df['Daily_Return'] = merged_df['Close'].pct_change()\n",
    "\n",
    "# Display the first few rows to check the daily return column\n",
    "print(merged_df[['Close', 'Daily_Return']].head())\n"
   ]
  },
  {
   "cell_type": "markdown",
   "metadata": {},
   "source": [
    "## Correlation Analysis"
   ]
  },
  {
   "cell_type": "code",
   "execution_count": 115,
   "metadata": {},
   "outputs": [
    {
     "name": "stdout",
     "output_type": "stream",
     "text": [
      "Correlation between sentiment scores and daily stock returns: 0.0012717938119761966\n"
     ]
    }
   ],
   "source": [
    "# Correlate sentiment scores with daily stock returns\n",
    "correlation = merged_df['Sentiment_Score'].corr(merged_df['Daily_Return'])\n",
    "\n",
    "print(f\"Correlation between sentiment scores and daily stock returns: {correlation}\")\n"
   ]
  }
 ],
 "metadata": {
  "kernelspec": {
   "display_name": "base",
   "language": "python",
   "name": "python3"
  },
  "language_info": {
   "codemirror_mode": {
    "name": "ipython",
    "version": 3
   },
   "file_extension": ".py",
   "mimetype": "text/x-python",
   "name": "python",
   "nbconvert_exporter": "python",
   "pygments_lexer": "ipython3",
   "version": "3.12.4"
  }
 },
 "nbformat": 4,
 "nbformat_minor": 2
}
